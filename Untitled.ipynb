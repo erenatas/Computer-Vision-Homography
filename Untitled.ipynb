{
 "cells": [
  {
   "cell_type": "code",
   "execution_count": 1,
   "metadata": {},
   "outputs": [],
   "source": [
    "import numpy as np\n",
    "import pandas as pd\n",
    "import cv2"
   ]
  },
  {
   "cell_type": "markdown",
   "metadata": {},
   "source": [
    "On Image 1\n",
    "772, 404\n",
    "780, 288\n",
    "788, 203\n",
    "477, 333\n",
    "\n",
    "On Image 2\n",
    "360, 566\n",
    "515, 565\n",
    "737, 565\n",
    "438, 487\n",
    "\n",
    "Player positions\n",
    "538, 450\n",
    "560, 476\n"
   ]
  },
  {
   "cell_type": "code",
   "execution_count": 2,
   "metadata": {},
   "outputs": [
    {
     "data": {
      "text/plain": [
       "(2, 4)"
      ]
     },
     "execution_count": 2,
     "metadata": {},
     "output_type": "execute_result"
    }
   ],
   "source": [
    "p1 = np.array([[772, 780, 589, 477], [404,288, 194, 333]])\n",
    "p2 = [[360, 515, 736, 438], [566,565, 487, 487]]\n",
    "p1.shape"
   ]
  },
  {
   "cell_type": "code",
   "execution_count": 3,
   "metadata": {},
   "outputs": [
    {
     "data": {
      "text/html": [
       "<div>\n",
       "<style scoped>\n",
       "    .dataframe tbody tr th:only-of-type {\n",
       "        vertical-align: middle;\n",
       "    }\n",
       "\n",
       "    .dataframe tbody tr th {\n",
       "        vertical-align: top;\n",
       "    }\n",
       "\n",
       "    .dataframe thead th {\n",
       "        text-align: right;\n",
       "    }\n",
       "</style>\n",
       "<table border=\"1\" class=\"dataframe\">\n",
       "  <thead>\n",
       "    <tr style=\"text-align: right;\">\n",
       "      <th></th>\n",
       "      <th>0</th>\n",
       "      <th>1</th>\n",
       "      <th>2</th>\n",
       "      <th>3</th>\n",
       "      <th>4</th>\n",
       "      <th>5</th>\n",
       "      <th>6</th>\n",
       "      <th>7</th>\n",
       "      <th>8</th>\n",
       "    </tr>\n",
       "  </thead>\n",
       "  <tbody>\n",
       "    <tr>\n",
       "      <th>0</th>\n",
       "      <td>-772</td>\n",
       "      <td>-404</td>\n",
       "      <td>-1</td>\n",
       "      <td>0</td>\n",
       "      <td>0</td>\n",
       "      <td>0</td>\n",
       "      <td>277920</td>\n",
       "      <td>145440</td>\n",
       "      <td>360</td>\n",
       "    </tr>\n",
       "    <tr>\n",
       "      <th>1</th>\n",
       "      <td>0</td>\n",
       "      <td>0</td>\n",
       "      <td>0</td>\n",
       "      <td>-772</td>\n",
       "      <td>-404</td>\n",
       "      <td>-1</td>\n",
       "      <td>436952</td>\n",
       "      <td>228664</td>\n",
       "      <td>566</td>\n",
       "    </tr>\n",
       "    <tr>\n",
       "      <th>2</th>\n",
       "      <td>-780</td>\n",
       "      <td>-288</td>\n",
       "      <td>-1</td>\n",
       "      <td>0</td>\n",
       "      <td>0</td>\n",
       "      <td>0</td>\n",
       "      <td>401700</td>\n",
       "      <td>148320</td>\n",
       "      <td>515</td>\n",
       "    </tr>\n",
       "    <tr>\n",
       "      <th>3</th>\n",
       "      <td>0</td>\n",
       "      <td>0</td>\n",
       "      <td>0</td>\n",
       "      <td>-780</td>\n",
       "      <td>-288</td>\n",
       "      <td>-1</td>\n",
       "      <td>440700</td>\n",
       "      <td>162720</td>\n",
       "      <td>565</td>\n",
       "    </tr>\n",
       "    <tr>\n",
       "      <th>4</th>\n",
       "      <td>-589</td>\n",
       "      <td>-194</td>\n",
       "      <td>-1</td>\n",
       "      <td>0</td>\n",
       "      <td>0</td>\n",
       "      <td>0</td>\n",
       "      <td>433504</td>\n",
       "      <td>142784</td>\n",
       "      <td>736</td>\n",
       "    </tr>\n",
       "    <tr>\n",
       "      <th>5</th>\n",
       "      <td>0</td>\n",
       "      <td>0</td>\n",
       "      <td>0</td>\n",
       "      <td>-589</td>\n",
       "      <td>-194</td>\n",
       "      <td>-1</td>\n",
       "      <td>286843</td>\n",
       "      <td>94478</td>\n",
       "      <td>487</td>\n",
       "    </tr>\n",
       "    <tr>\n",
       "      <th>6</th>\n",
       "      <td>-477</td>\n",
       "      <td>-333</td>\n",
       "      <td>-1</td>\n",
       "      <td>0</td>\n",
       "      <td>0</td>\n",
       "      <td>0</td>\n",
       "      <td>208926</td>\n",
       "      <td>145854</td>\n",
       "      <td>438</td>\n",
       "    </tr>\n",
       "    <tr>\n",
       "      <th>7</th>\n",
       "      <td>0</td>\n",
       "      <td>0</td>\n",
       "      <td>0</td>\n",
       "      <td>-477</td>\n",
       "      <td>-333</td>\n",
       "      <td>-1</td>\n",
       "      <td>232299</td>\n",
       "      <td>162171</td>\n",
       "      <td>487</td>\n",
       "    </tr>\n",
       "    <tr>\n",
       "      <th>8</th>\n",
       "      <td>0</td>\n",
       "      <td>0</td>\n",
       "      <td>0</td>\n",
       "      <td>0</td>\n",
       "      <td>0</td>\n",
       "      <td>0</td>\n",
       "      <td>0</td>\n",
       "      <td>0</td>\n",
       "      <td>1</td>\n",
       "    </tr>\n",
       "  </tbody>\n",
       "</table>\n",
       "</div>"
      ],
      "text/plain": [
       "     0    1  2    3    4  5       6       7    8\n",
       "0 -772 -404 -1    0    0  0  277920  145440  360\n",
       "1    0    0  0 -772 -404 -1  436952  228664  566\n",
       "2 -780 -288 -1    0    0  0  401700  148320  515\n",
       "3    0    0  0 -780 -288 -1  440700  162720  565\n",
       "4 -589 -194 -1    0    0  0  433504  142784  736\n",
       "5    0    0  0 -589 -194 -1  286843   94478  487\n",
       "6 -477 -333 -1    0    0  0  208926  145854  438\n",
       "7    0    0  0 -477 -333 -1  232299  162171  487\n",
       "8    0    0  0    0    0  0       0       0    1"
      ]
     },
     "execution_count": 3,
     "metadata": {},
     "output_type": "execute_result"
    }
   ],
   "source": [
    "A = []\n",
    "for i in range(0, len(p1[1])):\n",
    "    x, y = p1[0][i], p1[1][i]\n",
    "    u, v = p2[0][i], p2[1][i]\n",
    "    A.append([-1*x, -1*y, -1, 0, 0, 0, u*x, u*y, u])\n",
    "    A.append([0, 0, 0, -1*x, -1*y, -1, v*x, v*y, v])\n",
    "A.append([0, 0, 0, 0, 0, 0, 0, 0, 1])\n",
    "A = np.asarray(A)\n",
    "U, S, Vh = np.linalg.svd(A)\n",
    "V = Vh.transpose()\n",
    "L = Vh[8].reshape((3, 3))\n",
    "\n",
    "pd.DataFrame(A)\n",
    "\n"
   ]
  },
  {
   "cell_type": "code",
   "execution_count": 4,
   "metadata": {},
   "outputs": [
    {
     "name": "stdout",
     "output_type": "stream",
     "text": [
      "Is all close?  True\n"
     ]
    }
   ],
   "source": [
    "sol = [0, 0, 0, 0, 0, 0, 0, 0, 1]\n",
    "h = np.linalg.solve(A, sol)\n",
    "print('Is all close? ', np.allclose(np.dot(A, h), sol))"
   ]
  },
  {
   "cell_type": "code",
   "execution_count": 5,
   "metadata": {},
   "outputs": [
    {
     "data": {
      "text/plain": [
       "array([[ 6.11269767e-01, -2.80372624e+00,  4.05349220e+03],\n",
       "       [ 2.58761538e+00,  1.09526865e+01, -1.08846645e+03],\n",
       "       [ 9.72881870e-04,  1.89927374e-02,  1.00000000e+00]])"
      ]
     },
     "execution_count": 5,
     "metadata": {},
     "output_type": "execute_result"
    }
   ],
   "source": [
    "H = np.reshape(h,(3,3))\n",
    "H"
   ]
  },
  {
   "cell_type": "code",
   "execution_count": 6,
   "metadata": {},
   "outputs": [
    {
     "data": {
      "text/plain": [
       "array([3869.607199  , 2560.46019825,    5.25761848])"
      ]
     },
     "execution_count": 6,
     "metadata": {},
     "output_type": "execute_result"
    }
   ],
   "source": [
    "player_pos = np.array([589, 194, 1])\n",
    "H@player_pos"
   ]
  },
  {
   "cell_type": "code",
   "execution_count": null,
   "metadata": {},
   "outputs": [],
   "source": [
    "# To validate the result with OpenCV: \n",
    "p1 = np.array([[772, 780, 589, 477], [404,288, 194, 333]], dtype=np.float32)\n",
    "p2 = np.array([[360, 515, 736, 438], [566,565, 487, 487]], dtype=np.float32)\n",
    "\n",
    "p1 = np.array([[772, 404], [780, 288], [589, 194], [477, 333]])\n",
    "p2 = np.array([[360, 566], [515, 565], [736, 487], [438, 487]])\n",
    "h, status = cv2.findHomography(p1, p2)\n",
    "player_pos = np.array([589, 194, 1])\n",
    "h@player_pos"
   ]
  },
  {
   "cell_type": "code",
   "execution_count": 8,
   "metadata": {},
   "outputs": [],
   "source": [
    "# Warp first image\n",
    "im1 = cv2.imread(\"image1.jpg\");\n",
    "sz = im1.shape\n",
    "#im1 = cv2.warpPerspective(im1, H, (sz[1],sz[0]))\n",
    "#cv2.imshow(\"Image 1\", im1)\n",
    "#cv2.waitKey()\n"
   ]
  },
  {
   "cell_type": "code",
   "execution_count": 18,
   "metadata": {},
   "outputs": [
    {
     "name": "stdout",
     "output_type": "stream",
     "text": [
      "[9.72881870e-04 1.89927374e-02 1.00000000e+00]\n",
      "[ 6.12242649e-01 -2.78473350e+00  4.05449220e+03]\n",
      "[    2.58858826    10.97167926 -1087.46644813]\n",
      "[   3.19985803    8.16795303 2966.02574803]\n"
     ]
    },
    {
     "data": {
      "text/plain": [
       "[]"
      ]
     },
     "execution_count": 18,
     "metadata": {},
     "output_type": "execute_result"
    }
   ],
   "source": [
    "def warp_img(H, image):\n",
    "    # grab the image dimensions\n",
    "    output = []\n",
    "    h = image.shape[0]\n",
    "    w = image.shape[1]\n",
    "    \n",
    "    # loop over the image, pixel by pixel\n",
    "    for y in range(0, 2):\n",
    "        for x in range(0, 2):\n",
    "            # threshold the pixel\n",
    "            print(np.array([x, y, 1])@H)\n",
    "            #output[y, x] = np.array([x, y, 1])@H\n",
    "            \n",
    "    # return the thresholded image\n",
    "    return output\n",
    "\n",
    "warp_img(H, im1)"
   ]
  },
  {
   "cell_type": "code",
   "execution_count": 13,
   "metadata": {},
   "outputs": [
    {
     "data": {
      "text/html": [
       "<div>\n",
       "<style scoped>\n",
       "    .dataframe tbody tr th:only-of-type {\n",
       "        vertical-align: middle;\n",
       "    }\n",
       "\n",
       "    .dataframe tbody tr th {\n",
       "        vertical-align: top;\n",
       "    }\n",
       "\n",
       "    .dataframe thead th {\n",
       "        text-align: right;\n",
       "    }\n",
       "</style>\n",
       "<table border=\"1\" class=\"dataframe\">\n",
       "  <thead>\n",
       "    <tr style=\"text-align: right;\">\n",
       "      <th></th>\n",
       "      <th>0</th>\n",
       "      <th>1</th>\n",
       "      <th>2</th>\n",
       "      <th>3</th>\n",
       "      <th>4</th>\n",
       "      <th>5</th>\n",
       "      <th>6</th>\n",
       "      <th>7</th>\n",
       "      <th>8</th>\n",
       "    </tr>\n",
       "  </thead>\n",
       "  <tbody>\n",
       "    <tr>\n",
       "      <th>0</th>\n",
       "      <td>-772</td>\n",
       "      <td>-404</td>\n",
       "      <td>-1</td>\n",
       "      <td>0</td>\n",
       "      <td>0</td>\n",
       "      <td>0</td>\n",
       "      <td>277920</td>\n",
       "      <td>145440</td>\n",
       "      <td>360</td>\n",
       "    </tr>\n",
       "    <tr>\n",
       "      <th>1</th>\n",
       "      <td>0</td>\n",
       "      <td>0</td>\n",
       "      <td>0</td>\n",
       "      <td>-772</td>\n",
       "      <td>-404</td>\n",
       "      <td>-1</td>\n",
       "      <td>436952</td>\n",
       "      <td>228664</td>\n",
       "      <td>566</td>\n",
       "    </tr>\n",
       "    <tr>\n",
       "      <th>2</th>\n",
       "      <td>-780</td>\n",
       "      <td>-288</td>\n",
       "      <td>-1</td>\n",
       "      <td>0</td>\n",
       "      <td>0</td>\n",
       "      <td>0</td>\n",
       "      <td>401700</td>\n",
       "      <td>148320</td>\n",
       "      <td>515</td>\n",
       "    </tr>\n",
       "    <tr>\n",
       "      <th>3</th>\n",
       "      <td>0</td>\n",
       "      <td>0</td>\n",
       "      <td>0</td>\n",
       "      <td>-780</td>\n",
       "      <td>-288</td>\n",
       "      <td>-1</td>\n",
       "      <td>440700</td>\n",
       "      <td>162720</td>\n",
       "      <td>565</td>\n",
       "    </tr>\n",
       "    <tr>\n",
       "      <th>4</th>\n",
       "      <td>-788</td>\n",
       "      <td>-203</td>\n",
       "      <td>-1</td>\n",
       "      <td>0</td>\n",
       "      <td>0</td>\n",
       "      <td>0</td>\n",
       "      <td>580756</td>\n",
       "      <td>149611</td>\n",
       "      <td>737</td>\n",
       "    </tr>\n",
       "    <tr>\n",
       "      <th>5</th>\n",
       "      <td>0</td>\n",
       "      <td>0</td>\n",
       "      <td>0</td>\n",
       "      <td>-788</td>\n",
       "      <td>-203</td>\n",
       "      <td>-1</td>\n",
       "      <td>445220</td>\n",
       "      <td>114695</td>\n",
       "      <td>565</td>\n",
       "    </tr>\n",
       "    <tr>\n",
       "      <th>6</th>\n",
       "      <td>-477</td>\n",
       "      <td>-333</td>\n",
       "      <td>-1</td>\n",
       "      <td>0</td>\n",
       "      <td>0</td>\n",
       "      <td>0</td>\n",
       "      <td>208926</td>\n",
       "      <td>145854</td>\n",
       "      <td>438</td>\n",
       "    </tr>\n",
       "    <tr>\n",
       "      <th>7</th>\n",
       "      <td>0</td>\n",
       "      <td>0</td>\n",
       "      <td>0</td>\n",
       "      <td>-477</td>\n",
       "      <td>-333</td>\n",
       "      <td>-1</td>\n",
       "      <td>232299</td>\n",
       "      <td>162171</td>\n",
       "      <td>487</td>\n",
       "    </tr>\n",
       "  </tbody>\n",
       "</table>\n",
       "</div>"
      ],
      "text/plain": [
       "     0    1  2    3    4  5       6       7    8\n",
       "0 -772 -404 -1    0    0  0  277920  145440  360\n",
       "1    0    0  0 -772 -404 -1  436952  228664  566\n",
       "2 -780 -288 -1    0    0  0  401700  148320  515\n",
       "3    0    0  0 -780 -288 -1  440700  162720  565\n",
       "4 -788 -203 -1    0    0  0  580756  149611  737\n",
       "5    0    0  0 -788 -203 -1  445220  114695  565\n",
       "6 -477 -333 -1    0    0  0  208926  145854  438\n",
       "7    0    0  0 -477 -333 -1  232299  162171  487"
      ]
     },
     "execution_count": 13,
     "metadata": {},
     "output_type": "execute_result"
    }
   ],
   "source": [
    "# With SVD\n",
    "\n",
    "A = []\n",
    "for i in range(0, len(p1[1])):\n",
    "    x, y = p1[0][i], p1[1][i]\n",
    "    u, v = p2[0][i], p2[1][i]\n",
    "    A.append([-1*x, -1*y, -1, 0, 0, 0, u*x, u*y, u])\n",
    "    A.append([0, 0, 0, -1*x, -1*y, -1, v*x, v*y, v])\n",
    "A = np.asarray(A)\n",
    "U, S, Vh = np.linalg.svd(A)\n",
    "V = Vh.transpose()\n",
    "H = V[8].reshape((3, 3))\n",
    "\n",
    "pd.DataFrame(A)\n",
    "\n"
   ]
  },
  {
   "cell_type": "code",
   "execution_count": 18,
   "metadata": {},
   "outputs": [
    {
     "data": {
      "text/html": [
       "<div>\n",
       "<style scoped>\n",
       "    .dataframe tbody tr th:only-of-type {\n",
       "        vertical-align: middle;\n",
       "    }\n",
       "\n",
       "    .dataframe tbody tr th {\n",
       "        vertical-align: top;\n",
       "    }\n",
       "\n",
       "    .dataframe thead th {\n",
       "        text-align: right;\n",
       "    }\n",
       "</style>\n",
       "<table border=\"1\" class=\"dataframe\">\n",
       "  <thead>\n",
       "    <tr style=\"text-align: right;\">\n",
       "      <th></th>\n",
       "      <th>0</th>\n",
       "      <th>1</th>\n",
       "      <th>2</th>\n",
       "      <th>3</th>\n",
       "      <th>4</th>\n",
       "      <th>5</th>\n",
       "      <th>6</th>\n",
       "      <th>7</th>\n",
       "      <th>8</th>\n",
       "    </tr>\n",
       "  </thead>\n",
       "  <tbody>\n",
       "    <tr>\n",
       "      <th>0</th>\n",
       "      <td>-0.000806</td>\n",
       "      <td>-0.000314</td>\n",
       "      <td>-1.098150e-06</td>\n",
       "      <td>-0.000857</td>\n",
       "      <td>-0.000359</td>\n",
       "      <td>-0.000001</td>\n",
       "      <td>0.932792</td>\n",
       "      <td>0.360411</td>\n",
       "      <td>0.001259</td>\n",
       "    </tr>\n",
       "    <tr>\n",
       "      <th>1</th>\n",
       "      <td>0.000176</td>\n",
       "      <td>-0.000908</td>\n",
       "      <td>-9.815793e-07</td>\n",
       "      <td>-0.001353</td>\n",
       "      <td>-0.001573</td>\n",
       "      <td>-0.000003</td>\n",
       "      <td>-0.360413</td>\n",
       "      <td>0.932790</td>\n",
       "      <td>0.000732</td>\n",
       "    </tr>\n",
       "    <tr>\n",
       "      <th>2</th>\n",
       "      <td>-0.679615</td>\n",
       "      <td>-0.297760</td>\n",
       "      <td>-9.509398e-04</td>\n",
       "      <td>0.620523</td>\n",
       "      <td>0.253613</td>\n",
       "      <td>0.000846</td>\n",
       "      <td>-0.000418</td>\n",
       "      <td>0.000997</td>\n",
       "      <td>0.009564</td>\n",
       "    </tr>\n",
       "    <tr>\n",
       "      <th>3</th>\n",
       "      <td>-0.315114</td>\n",
       "      <td>-0.586189</td>\n",
       "      <td>-5.687983e-04</td>\n",
       "      <td>-0.701057</td>\n",
       "      <td>0.189162</td>\n",
       "      <td>-0.000391</td>\n",
       "      <td>-0.000342</td>\n",
       "      <td>-0.001206</td>\n",
       "      <td>-0.172684</td>\n",
       "    </tr>\n",
       "    <tr>\n",
       "      <th>4</th>\n",
       "      <td>-0.157373</td>\n",
       "      <td>0.251722</td>\n",
       "      <td>1.108589e-03</td>\n",
       "      <td>0.039822</td>\n",
       "      <td>-0.188343</td>\n",
       "      <td>0.000801</td>\n",
       "      <td>0.000771</td>\n",
       "      <td>0.001046</td>\n",
       "      <td>-0.935311</td>\n",
       "    </tr>\n",
       "    <tr>\n",
       "      <th>5</th>\n",
       "      <td>-0.585986</td>\n",
       "      <td>0.301161</td>\n",
       "      <td>1.346079e-03</td>\n",
       "      <td>-0.237118</td>\n",
       "      <td>-0.647830</td>\n",
       "      <td>-0.002814</td>\n",
       "      <td>-0.000685</td>\n",
       "      <td>-0.001533</td>\n",
       "      <td>0.300003</td>\n",
       "    </tr>\n",
       "    <tr>\n",
       "      <th>6</th>\n",
       "      <td>-0.265856</td>\n",
       "      <td>0.643162</td>\n",
       "      <td>-1.730900e-03</td>\n",
       "      <td>-0.256234</td>\n",
       "      <td>0.666878</td>\n",
       "      <td>0.000925</td>\n",
       "      <td>-0.000540</td>\n",
       "      <td>0.001163</td>\n",
       "      <td>0.072629</td>\n",
       "    </tr>\n",
       "    <tr>\n",
       "      <th>7</th>\n",
       "      <td>-0.000599</td>\n",
       "      <td>0.000148</td>\n",
       "      <td>-4.402874e-01</td>\n",
       "      <td>-0.001142</td>\n",
       "      <td>-0.003319</td>\n",
       "      <td>0.897849</td>\n",
       "      <td>-0.000001</td>\n",
       "      <td>-0.000006</td>\n",
       "      <td>0.001008</td>\n",
       "    </tr>\n",
       "    <tr>\n",
       "      <th>8</th>\n",
       "      <td>-0.000653</td>\n",
       "      <td>-0.000136</td>\n",
       "      <td>8.978528e-01</td>\n",
       "      <td>-0.000535</td>\n",
       "      <td>0.001250</td>\n",
       "      <td>0.440291</td>\n",
       "      <td>-0.000002</td>\n",
       "      <td>0.000002</td>\n",
       "      <td>0.001240</td>\n",
       "    </tr>\n",
       "  </tbody>\n",
       "</table>\n",
       "</div>"
      ],
      "text/plain": [
       "          0         1             2         3         4         5         6  \\\n",
       "0 -0.000806 -0.000314 -1.098150e-06 -0.000857 -0.000359 -0.000001  0.932792   \n",
       "1  0.000176 -0.000908 -9.815793e-07 -0.001353 -0.001573 -0.000003 -0.360413   \n",
       "2 -0.679615 -0.297760 -9.509398e-04  0.620523  0.253613  0.000846 -0.000418   \n",
       "3 -0.315114 -0.586189 -5.687983e-04 -0.701057  0.189162 -0.000391 -0.000342   \n",
       "4 -0.157373  0.251722  1.108589e-03  0.039822 -0.188343  0.000801  0.000771   \n",
       "5 -0.585986  0.301161  1.346079e-03 -0.237118 -0.647830 -0.002814 -0.000685   \n",
       "6 -0.265856  0.643162 -1.730900e-03 -0.256234  0.666878  0.000925 -0.000540   \n",
       "7 -0.000599  0.000148 -4.402874e-01 -0.001142 -0.003319  0.897849 -0.000001   \n",
       "8 -0.000653 -0.000136  8.978528e-01 -0.000535  0.001250  0.440291 -0.000002   \n",
       "\n",
       "          7         8  \n",
       "0  0.360411  0.001259  \n",
       "1  0.932790  0.000732  \n",
       "2  0.000997  0.009564  \n",
       "3 -0.001206 -0.172684  \n",
       "4  0.001046 -0.935311  \n",
       "5 -0.001533  0.300003  \n",
       "6  0.001163  0.072629  \n",
       "7 -0.000006  0.001008  \n",
       "8  0.000002  0.001240  "
      ]
     },
     "execution_count": 18,
     "metadata": {},
     "output_type": "execute_result"
    }
   ],
   "source": [
    "pd.DataFrame(Vh)"
   ]
  },
  {
   "cell_type": "code",
   "execution_count": 19,
   "metadata": {},
   "outputs": [
    {
     "data": {
      "text/plain": [
       "array([   1.01619519, -513.49428988,   39.52897128])"
      ]
     },
     "execution_count": 19,
     "metadata": {},
     "output_type": "execute_result"
    }
   ],
   "source": [
    "player_pos = np.array([538, 450, 1])\n",
    "H@player_pos"
   ]
  },
  {
   "cell_type": "code",
   "execution_count": 18,
   "metadata": {},
   "outputs": [
    {
     "ename": "NameError",
     "evalue": "name 'H' is not defined",
     "output_type": "error",
     "traceback": [
      "\u001b[0;31m---------------------------------------------------------------------------\u001b[0m",
      "\u001b[0;31mNameError\u001b[0m                                 Traceback (most recent call last)",
      "\u001b[0;32m<ipython-input-18-dd6dde6ccdcd>\u001b[0m in \u001b[0;36m<module>\u001b[0;34m()\u001b[0m\n\u001b[1;32m      1\u001b[0m \u001b[0mim1\u001b[0m \u001b[0;34m=\u001b[0m  \u001b[0mcv2\u001b[0m\u001b[0;34m.\u001b[0m\u001b[0mimread\u001b[0m\u001b[0;34m(\u001b[0m\u001b[0;34m\"images/image1.jpg\"\u001b[0m\u001b[0;34m)\u001b[0m\u001b[0;34m;\u001b[0m\u001b[0;34m\u001b[0m\u001b[0;34m\u001b[0m\u001b[0m\n\u001b[0;32m----> 2\u001b[0;31m \u001b[0mcv2\u001b[0m\u001b[0;34m.\u001b[0m\u001b[0mwarpPerspective\u001b[0m\u001b[0;34m(\u001b[0m\u001b[0mim1\u001b[0m\u001b[0;34m,\u001b[0m \u001b[0mH\u001b[0m\u001b[0;34m)\u001b[0m\u001b[0;34m\u001b[0m\u001b[0;34m\u001b[0m\u001b[0m\n\u001b[0m",
      "\u001b[0;31mNameError\u001b[0m: name 'H' is not defined"
     ]
    }
   ],
   "source": []
  },
  {
   "cell_type": "code",
   "execution_count": 5,
   "metadata": {},
   "outputs": [
    {
     "ename": "IndexError",
     "evalue": "list index out of range",
     "output_type": "error",
     "traceback": [
      "\u001b[0;31m---------------------------------------------------------------------------\u001b[0m",
      "\u001b[0;31mIndexError\u001b[0m                                Traceback (most recent call last)",
      "\u001b[0;32m<ipython-input-5-d19874b5db51>\u001b[0m in \u001b[0;36m<module>\u001b[0;34m()\u001b[0m\n\u001b[1;32m      1\u001b[0m \u001b[0mA\u001b[0m \u001b[0;34m=\u001b[0m \u001b[0;34m[\u001b[0m\u001b[0;34m]\u001b[0m\u001b[0;34m\u001b[0m\u001b[0;34m\u001b[0m\u001b[0m\n\u001b[1;32m      2\u001b[0m \u001b[0;32mfor\u001b[0m \u001b[0mi\u001b[0m \u001b[0;32min\u001b[0m \u001b[0mrange\u001b[0m\u001b[0;34m(\u001b[0m\u001b[0;36m4\u001b[0m\u001b[0;34m)\u001b[0m\u001b[0;34m:\u001b[0m \u001b[0;31m# Using the corners\u001b[0m\u001b[0;34m\u001b[0m\u001b[0;34m\u001b[0m\u001b[0m\n\u001b[0;32m----> 3\u001b[0;31m         \u001b[0mA\u001b[0m\u001b[0;34m[\u001b[0m\u001b[0mi\u001b[0m\u001b[0;34m*\u001b[0m\u001b[0;36m2\u001b[0m\u001b[0;34m]\u001b[0m\u001b[0;34m[\u001b[0m\u001b[0;34m:\u001b[0m\u001b[0;34m]\u001b[0m \u001b[0;34m=\u001b[0m \u001b[0;34m[\u001b[0m \u001b[0mp1\u001b[0m\u001b[0;34m[\u001b[0m\u001b[0mi\u001b[0m\u001b[0;34m]\u001b[0m\u001b[0;34m[\u001b[0m\u001b[0;36m1\u001b[0m\u001b[0;34m]\u001b[0m\u001b[0;34m,\u001b[0m \u001b[0mp1\u001b[0m\u001b[0;34m[\u001b[0m\u001b[0mi\u001b[0m\u001b[0;34m]\u001b[0m\u001b[0;34m[\u001b[0m\u001b[0;36m0\u001b[0m\u001b[0;34m]\u001b[0m\u001b[0;34m,\u001b[0m \u001b[0;36m1\u001b[0m\u001b[0;34m,\u001b[0m \u001b[0;36m0\u001b[0m\u001b[0;34m,\u001b[0m \u001b[0;36m0\u001b[0m\u001b[0;34m,\u001b[0m \u001b[0;36m0\u001b[0m\u001b[0;34m,\u001b[0m \u001b[0;34m-\u001b[0m\u001b[0mp2\u001b[0m\u001b[0;34m[\u001b[0m\u001b[0mi\u001b[0m\u001b[0;34m]\u001b[0m\u001b[0;34m[\u001b[0m\u001b[0;36m1\u001b[0m\u001b[0;34m]\u001b[0m\u001b[0;34m*\u001b[0m\u001b[0mp1\u001b[0m\u001b[0;34m[\u001b[0m\u001b[0mi\u001b[0m\u001b[0;34m]\u001b[0m\u001b[0;34m[\u001b[0m\u001b[0;36m1\u001b[0m\u001b[0;34m]\u001b[0m\u001b[0;34m,\u001b[0m \u001b[0;34m-\u001b[0m\u001b[0mp2\u001b[0m\u001b[0;34m[\u001b[0m\u001b[0mi\u001b[0m\u001b[0;34m]\u001b[0m\u001b[0;34m[\u001b[0m\u001b[0;36m1\u001b[0m\u001b[0;34m]\u001b[0m\u001b[0;34m*\u001b[0m\u001b[0mp1\u001b[0m\u001b[0;34m[\u001b[0m\u001b[0mi\u001b[0m\u001b[0;34m]\u001b[0m\u001b[0;34m[\u001b[0m\u001b[0;36m0\u001b[0m\u001b[0;34m]\u001b[0m\u001b[0;34m,\u001b[0m \u001b[0;34m-\u001b[0m\u001b[0mp2\u001b[0m\u001b[0;34m[\u001b[0m\u001b[0mi\u001b[0m\u001b[0;34m]\u001b[0m\u001b[0;34m[\u001b[0m\u001b[0;36m1\u001b[0m\u001b[0;34m]\u001b[0m \u001b[0;34m]\u001b[0m\u001b[0;34m\u001b[0m\u001b[0;34m\u001b[0m\u001b[0m\n\u001b[0m\u001b[1;32m      4\u001b[0m         \u001b[0mA\u001b[0m\u001b[0;34m[\u001b[0m\u001b[0mi\u001b[0m\u001b[0;34m*\u001b[0m\u001b[0;36m2\u001b[0m\u001b[0;34m+\u001b[0m\u001b[0;36m1\u001b[0m\u001b[0;34m]\u001b[0m\u001b[0;34m[\u001b[0m\u001b[0;34m:\u001b[0m\u001b[0;34m]\u001b[0m \u001b[0;34m=\u001b[0m \u001b[0;34m[\u001b[0m\u001b[0;36m0\u001b[0m\u001b[0;34m,\u001b[0m \u001b[0;36m0\u001b[0m\u001b[0;34m,\u001b[0m \u001b[0;36m0\u001b[0m\u001b[0;34m,\u001b[0m \u001b[0mp1\u001b[0m\u001b[0;34m[\u001b[0m\u001b[0mi\u001b[0m\u001b[0;34m]\u001b[0m\u001b[0;34m[\u001b[0m\u001b[0;36m1\u001b[0m\u001b[0;34m]\u001b[0m\u001b[0;34m,\u001b[0m \u001b[0mp1\u001b[0m\u001b[0;34m[\u001b[0m\u001b[0mi\u001b[0m\u001b[0;34m]\u001b[0m\u001b[0;34m[\u001b[0m\u001b[0;36m0\u001b[0m\u001b[0;34m]\u001b[0m\u001b[0;34m,\u001b[0m \u001b[0;36m1\u001b[0m\u001b[0;34m,\u001b[0m \u001b[0;34m-\u001b[0m\u001b[0mp2\u001b[0m\u001b[0;34m[\u001b[0m\u001b[0mi\u001b[0m\u001b[0;34m]\u001b[0m\u001b[0;34m[\u001b[0m\u001b[0;36m0\u001b[0m\u001b[0;34m]\u001b[0m\u001b[0;34m*\u001b[0m\u001b[0mp1\u001b[0m\u001b[0;34m[\u001b[0m\u001b[0mi\u001b[0m\u001b[0;34m]\u001b[0m\u001b[0;34m[\u001b[0m\u001b[0;36m1\u001b[0m\u001b[0;34m]\u001b[0m\u001b[0;34m,\u001b[0m \u001b[0;34m-\u001b[0m\u001b[0mp2\u001b[0m\u001b[0;34m[\u001b[0m\u001b[0mi\u001b[0m\u001b[0;34m]\u001b[0m\u001b[0;34m[\u001b[0m\u001b[0;36m0\u001b[0m\u001b[0;34m]\u001b[0m\u001b[0;34m*\u001b[0m\u001b[0mp1\u001b[0m\u001b[0;34m[\u001b[0m\u001b[0mi\u001b[0m\u001b[0;34m]\u001b[0m\u001b[0;34m[\u001b[0m\u001b[0;36m0\u001b[0m\u001b[0;34m]\u001b[0m\u001b[0;34m,\u001b[0m \u001b[0;34m-\u001b[0m\u001b[0mp2\u001b[0m\u001b[0;34m[\u001b[0m\u001b[0mi\u001b[0m\u001b[0;34m]\u001b[0m\u001b[0;34m[\u001b[0m\u001b[0;36m0\u001b[0m\u001b[0;34m]\u001b[0m \u001b[0;34m]\u001b[0m\u001b[0;34m\u001b[0m\u001b[0;34m\u001b[0m\u001b[0m\n\u001b[1;32m      5\u001b[0m \u001b[0;34m\u001b[0m\u001b[0m\n",
      "\u001b[0;31mIndexError\u001b[0m: list index out of range"
     ]
    }
   ],
   "source": [
    "A = []\n",
    "for i in range(4): # Using the corners\n",
    "        A[i*2,:] = [ p1[i][1], p1[i][0], 1, 0, 0, 0, -p2[i][1]*p1[i][1], -p2[i][1]*p1[i][0], -p2[i][1] ]\n",
    "        A[i*2+1,:] = [0, 0, 0, p1[i][1], p1[i][0], 1, -p2[i][0]*p1[i][1], -p2[i][0]*p1[i][0], -p2[i][0] ]\n",
    "\n",
    "[U,S,V]=np.linalg.svd(A)\n",
    "m = V[-1,:]\n",
    "H = np.reshape(m,(3,3))\n",
    "\n",
    "print(\"This value should be close to zero: \"+str(np.sum(np.dot(A,m))))\n",
    "\n",
    "H = np.reshape(m,(3,3))"
   ]
  },
  {
   "cell_type": "code",
   "execution_count": 13,
   "metadata": {},
   "outputs": [
    {
     "ename": "NameError",
     "evalue": "name 'c2' is not defined",
     "output_type": "error",
     "traceback": [
      "\u001b[0;31m---------------------------------------------------------------------------\u001b[0m",
      "\u001b[0;31mNameError\u001b[0m                                 Traceback (most recent call last)",
      "\u001b[0;32m<ipython-input-13-70dc7f72752c>\u001b[0m in \u001b[0;36m<module>\u001b[0;34m()\u001b[0m\n\u001b[1;32m     10\u001b[0m \u001b[0mu\u001b[0m\u001b[0;34m,\u001b[0m \u001b[0ms\u001b[0m\u001b[0;34m,\u001b[0m \u001b[0mv\u001b[0m \u001b[0;34m=\u001b[0m \u001b[0mnp\u001b[0m\u001b[0;34m.\u001b[0m\u001b[0mlinalg\u001b[0m\u001b[0;34m.\u001b[0m\u001b[0msvd\u001b[0m\u001b[0;34m(\u001b[0m\u001b[0ma\u001b[0m\u001b[0;34m)\u001b[0m\u001b[0;34m\u001b[0m\u001b[0;34m\u001b[0m\u001b[0m\n\u001b[1;32m     11\u001b[0m \u001b[0mhomography_matrix\u001b[0m \u001b[0;34m=\u001b[0m \u001b[0mv\u001b[0m\u001b[0;34m[\u001b[0m\u001b[0;36m8\u001b[0m\u001b[0;34m]\u001b[0m\u001b[0;34m.\u001b[0m\u001b[0mreshape\u001b[0m\u001b[0;34m(\u001b[0m\u001b[0;34m(\u001b[0m\u001b[0;36m3\u001b[0m\u001b[0;34m,\u001b[0m \u001b[0;36m3\u001b[0m\u001b[0;34m)\u001b[0m\u001b[0;34m)\u001b[0m\u001b[0;34m\u001b[0m\u001b[0;34m\u001b[0m\u001b[0m\n\u001b[0;32m---> 12\u001b[0;31m \u001b[0mhomography_matrix\u001b[0m \u001b[0;34m=\u001b[0m \u001b[0mnp\u001b[0m\u001b[0;34m.\u001b[0m\u001b[0mdot\u001b[0m\u001b[0;34m(\u001b[0m\u001b[0mnp\u001b[0m\u001b[0;34m.\u001b[0m\u001b[0mlinalg\u001b[0m\u001b[0;34m.\u001b[0m\u001b[0minv\u001b[0m\u001b[0;34m(\u001b[0m\u001b[0mc2\u001b[0m\u001b[0;34m)\u001b[0m\u001b[0;34m,\u001b[0m \u001b[0mnp\u001b[0m\u001b[0;34m.\u001b[0m\u001b[0mdot\u001b[0m\u001b[0;34m(\u001b[0m\u001b[0mhomography_matrix\u001b[0m\u001b[0;34m,\u001b[0m \u001b[0mc1\u001b[0m\u001b[0;34m)\u001b[0m\u001b[0;34m)\u001b[0m\u001b[0;34m\u001b[0m\u001b[0;34m\u001b[0m\u001b[0m\n\u001b[0m\u001b[1;32m     13\u001b[0m \u001b[0mhomography_matrix\u001b[0m \u001b[0;34m=\u001b[0m \u001b[0mhomography_matrix\u001b[0m \u001b[0;34m/\u001b[0m \u001b[0mhomography_matrix\u001b[0m\u001b[0;34m[\u001b[0m\u001b[0;36m2\u001b[0m\u001b[0;34m,\u001b[0m \u001b[0;36m2\u001b[0m\u001b[0;34m]\u001b[0m\u001b[0;34m\u001b[0m\u001b[0;34m\u001b[0m\u001b[0m\n",
      "\u001b[0;31mNameError\u001b[0m: name 'c2' is not defined"
     ]
    }
   ],
   "source": [
    "origin = [[772, 780, 788, 477], [404,288, 203, 333]]\n",
    "dest = [[360, 515, 737, 438], [566,565, 565, 487]]\n",
    "nbr_correspondences = len(origin[0])\n",
    "a = np.zeros((2 * nbr_correspondences, 9))\n",
    "for i in range(nbr_correspondences):\n",
    "    a[2 * i] = [-origin[0][i], -origin[1][i], -1, 0, 0, 0, dest[0][i] * origin[0][i], dest[0][i] * origin[1][i],\n",
    "                dest[0][i]]\n",
    "    a[2 * i + 1] = [0, 0, 0, -origin[0][i], -origin[1][i], -1, dest[1][i] * origin[0][i], dest[1][i] * origin[1][i],\n",
    "                    dest[1][i]]\n",
    "u, s, v = np.linalg.svd(a)\n",
    "homography_matrix = v[8].reshape((3, 3))\n",
    "homography_matrix = np.dot(np.linalg.inv(c2), np.dot(homography_matrix, c1))\n",
    "homography_matrix = homography_matrix / homography_matrix[2, 2]"
   ]
  },
  {
   "cell_type": "code",
   "execution_count": null,
   "metadata": {},
   "outputs": [],
   "source": []
  }
 ],
 "metadata": {
  "kernelspec": {
   "display_name": "Python 3",
   "language": "python",
   "name": "python3"
  },
  "language_info": {
   "codemirror_mode": {
    "name": "ipython",
    "version": 3
   },
   "file_extension": ".py",
   "mimetype": "text/x-python",
   "name": "python",
   "nbconvert_exporter": "python",
   "pygments_lexer": "ipython3",
   "version": "3.7.1"
  }
 },
 "nbformat": 4,
 "nbformat_minor": 2
}
